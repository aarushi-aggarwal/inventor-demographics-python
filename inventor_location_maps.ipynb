{
 "cells": [
  {
   "cell_type": "code",
   "execution_count": 1,
   "id": "6381c06e",
   "metadata": {},
   "outputs": [],
   "source": [
    "pip install geopandas matplotlib\n",
    "import numpy as np\n",
    "import pandas as pd"
   ]
  },
  {
   "cell_type": "code",
   "execution_count": 2,
   "id": "82057461",
   "metadata": {},
   "outputs": [],
   "source": [
    "inventor_df = pd.read_csv('C:/Users/aarus/Downloads/g_inventor_disambiguated.tsv/g_inventor_disambiguated.tsv',sep='\\t')\n",
    "location_df = pd.read_csv('C:/Users/aarus/Downloads/g_location_disambiguated.tsv/g_location_disambiguated.tsv',sep='\\t')"
   ]
  },
  {
   "cell_type": "code",
   "execution_count": 3,
   "id": "3f8b510e",
   "metadata": {},
   "outputs": [],
   "source": [
    "inventor_df.info()"
   ]
  },
  {
   "cell_type": "code",
   "execution_count": 4,
   "id": "3f1172a4",
   "metadata": {},
   "outputs": [
    {
     "name": "stdout",
     "output_type": "stream",
     "text": [
      "<class 'pandas.core.frame.DataFrame'>\n",
      "RangeIndex: 21467473 entries, 0 to 21467472\n",
      "Data columns (total 7 columns):\n",
      " #   Column                        Dtype \n",
      "---  ------                        ----- \n",
      " 0   patent_id                     object\n",
      " 1   inventor_sequence             int64 \n",
      " 2   inventor_id                   object\n",
      " 3   disambig_inventor_name_first  object\n",
      " 4   disambig_inventor_name_last   object\n",
      " 5   gender_code                   object\n",
      " 6   location_id                   object\n",
      "dtypes: int64(1), object(6)\n",
      "memory usage: 1.1+ GB\n"
     ]
    }
   ],
   "source": [
    "inventor_df=inventor_df.drop(['disambig_inventor_name_first', 'disambig_inventor_name_last', 'inventor_sequence'], axis=1)\n",
    "inventor_df=inventor_df.sort_values(by=['inventor_id'])"
   ]
  },
  {
   "cell_type": "code",
   "execution_count": 8,
   "id": "a555caea",
   "metadata": {},
   "outputs": [],
   "source": [
    "patent_count= inventor_df.groupby('inventor_id')['patent_id'].count().reset_index()\n",
    "patent_count.columns = ['inventor_id', 'patent_count']\n",
    "inventor_df = pd.merge(inventor_df, patent_count, on='inventor_id', how='left')\n",
    "inventor_df = pd.merge(inventor_df, location_df, on='location_id', how='left')"
   ]
  },
  {
   "cell_type": "code",
   "execution_count": 1,
   "id": "2178d6d1",
   "metadata": {},
   "outputs": [
    {
     "ename": "NameError",
     "evalue": "name 'inventor_df' is not defined",
     "output_type": "error",
     "traceback": [
      "\u001b[1;31m---------------------------------------------------------------------------\u001b[0m",
      "\u001b[1;31mNameError\u001b[0m                                 Traceback (most recent call last)",
      "Cell \u001b[1;32mIn[1], line 1\u001b[0m\n\u001b[1;32m----> 1\u001b[0m df_temp\u001b[38;5;241m=\u001b[39m inventor_df\u001b[38;5;241m.\u001b[39mdrop(\u001b[38;5;124m'\u001b[39m\u001b[38;5;124mpatent_id\u001b[39m\u001b[38;5;124m'\u001b[39m, axis\u001b[38;5;241m=\u001b[39m\u001b[38;5;241m1\u001b[39m)\n\u001b[0;32m      2\u001b[0m df_temp\u001b[38;5;241m=\u001b[39m df_temp\u001b[38;5;241m.\u001b[39mdrop_duplicates()\n\u001b[0;32m      3\u001b[0m most_common_location \u001b[38;5;241m=\u001b[39m df_temp\u001b[38;5;241m.\u001b[39mgroupby(\u001b[38;5;124m'\u001b[39m\u001b[38;5;124minventor_id\u001b[39m\u001b[38;5;124m'\u001b[39m)[\u001b[38;5;124m'\u001b[39m\u001b[38;5;124mlocation_id\u001b[39m\u001b[38;5;124m'\u001b[39m]\u001b[38;5;241m.\u001b[39magg(\u001b[38;5;28;01mlambda\u001b[39;00m x: x\u001b[38;5;241m.\u001b[39mmode()\u001b[38;5;241m.\u001b[39miloc[\u001b[38;5;241m0\u001b[39m] \u001b[38;5;28;01mif\u001b[39;00m \u001b[38;5;129;01mnot\u001b[39;00m x\u001b[38;5;241m.\u001b[39mmode()\u001b[38;5;241m.\u001b[39mempty \u001b[38;5;28;01melse\u001b[39;00m pd\u001b[38;5;241m.\u001b[39mNA)\u001b[38;5;241m.\u001b[39mreset_index()\n",
      "\u001b[1;31mNameError\u001b[0m: name 'inventor_df' is not defined"
     ]
    }
   ],
   "source": [
    "df_temp= inventor_df.drop('patent_id', axis=1)\n",
    "df_temp= df_temp.drop_duplicates()\n",
    "most_common_location = df_temp.groupby('inventor_id')['location_id'].agg(lambda x: x.mode().iloc[0] if not x.mode().empty else pd.NA).reset_index()\n",
    "\n",
    "# Rename the columns for clarity\n",
    "most_common_location.columns = ['inventor_id', 'most_common_location_id']\n",
    "\n",
    "# Merge the most_common_location DataFrame with the original inventor_df DataFrame\n",
    "df_temp = pd.merge(df_temp, most_common_location, on='inventor_id', how='left')\n",
    "df_temp = df_temp.drop(['disambig_city', 'disambig_state', 'disambig_country', 'latitude', 'longitude', 'county', 'state_fips', 'county_fips'], axis=1)\n",
    "df_temp = df_temp.merge(location_df, left_on='most_common_location_id', right_on='location_id', how='left')\n",
    "df_temp= df_temp.drop_duplicates(subset=['inventor_id'])"
   ]
  },
  {
   "cell_type": "code",
   "execution_count": null,
   "id": "4c057268",
   "metadata": {},
   "outputs": [],
   "source": [
    "import geopandas as gpd\n",
    "import matplotlib.pyplot as plt\n",
    "from matplotlib.colors import LogNorm\n",
    "\n",
    "# Create a GeoDataFrame from inventor_df\n",
    "gdf = gpd.GeoDataFrame(df_temp, \n",
    "                       geometry=gpd.points_from_xy(df_temp.longitude, df_temp.latitude))\n",
    "\n",
    "# World basemap\n",
    "world = gpd.read_file(gpd.datasets.get_path('naturalearth_lowres'))\n",
    "\n",
    "# Plot the world map\n",
    "fig, ax = plt.subplots(figsize=(15, 10))\n",
    "world.plot(ax=ax, color='lightgray')\n",
    "\n",
    "# Plot inventor locations on top of the world map, color intensity based on patent_count\n",
    "gdf.plot(ax=ax, marker='o', alpha=0.7, cmap='viridis', markersize=10, norm=LogNorm(), c='patent_count', legend=True)\n",
    "\n",
    "# Add colorbar\n",
    "cbar = plt.colorbar(ax.collections[0], label='Patent Count', orientation='vertical')\n",
    "\n",
    "# Remove inventor_id labels\n",
    "ax.set_title('Inventor Locations on World Map')\n",
    "ax.set_xlabel('Longitude')\n",
    "ax.set_ylabel('Latitude')\n",
    "\n",
    "plt.show()"
   ]
  },
  {
   "cell_type": "code",
   "execution_count": null,
   "id": "e715ca84",
   "metadata": {},
   "outputs": [],
   "source": [
    "location_counts = df_temp.groupby(['latitude', 'longitude']).size().reset_index(name='inventor_count')\n",
    "\n",
    "# Create a GeoDataFrame from location_counts\n",
    "gdf = gpd.GeoDataFrame(location_counts, \n",
    "                       geometry=gpd.points_from_xy(location_counts.longitude, location_counts.latitude))\n",
    "\n",
    "# World basemap\n",
    "world = gpd.read_file(gpd.datasets.get_path('naturalearth_lowres'))\n",
    "\n",
    "# Plot the world map\n",
    "fig, ax = plt.subplots(figsize=(15, 10))\n",
    "world.plot(ax=ax, color='lightgray')\n",
    "\n",
    "# Plot inventor locations on top of the world map, dot size based on inventor_count\n",
    "gdf.plot(ax=ax, marker='o', alpha=0.7, cmap='viridis', markersize=gdf['inventor_count']*2, norm=LogNorm(), legend=True)\n",
    "\n",
    "# Add colorbar\n",
    "cbar = plt.colorbar(ax.collections[0], label='Inventor Count', orientation='vertical')\n",
    "\n",
    "# Remove inventor_id labels\n",
    "ax.set_title('Inventor Locations on World Map (Dot Size based on Inventor Count)')\n",
    "ax.set_xlabel('Longitude')\n",
    "ax.set_ylabel('Latitude')\n",
    "\n",
    "plt.show()\n"
   ]
  },
  {
   "cell_type": "code",
   "execution_count": null,
   "id": "dae81f7e",
   "metadata": {},
   "outputs": [],
   "source": [
    "df_temp2 = df_temp[df_temp['disambig_country'] == 'US']\n",
    "\n",
    "from mpl_toolkits.axes_grid1 import make_axes_locatable\n",
    "# Load the US states GeoDataFrame\n",
    "us_states = gpd.read_file('C:/Users/aarus/Downloads/cb_2021_us_state_20m/cb_2021_us_state_20m.shp')\n",
    "\n",
    "# Merge inventor_df with us_states based on the common geometry\n",
    "gdf = gpd.GeoDataFrame(df_temp2, \n",
    "                       geometry=gpd.points_from_xy(df_temp2.longitude, df_temp2.latitude))\n",
    "\n",
    "# Spatial join to associate inventors with US states\n",
    "gdf_us_states = gpd.sjoin(gdf, us_states, how='left', op='within')\n",
    "\n",
    "# Aggregate by state, counting the number of inventors in each state\n",
    "state_counts = gdf_us_states.groupby('STUSPS').size().reset_index(name='inventor_count')\n",
    "\n",
    "# Merge state_counts with us_states based on state code (STUSPS)\n",
    "us_states = us_states.merge(state_counts, left_on='STUSPS', right_on='STUSPS', how='left')\n",
    "\n",
    "# Plot the choropleth map\n",
    "fig, ax = plt.subplots(figsize=(25, 20))\n",
    "divider = make_axes_locatable(ax)\n",
    "cax = divider.append_axes(\"right\", size=\"5%\", pad=0.1)\n",
    "\n",
    "us_states.plot(column='inventor_count', cmap='viridis', linewidth=0.8, ax=ax, edgecolor='0.8', legend=True, cax=cax)\n",
    "\n",
    "# Add colorbar\n",
    "cax.set_title('Inventor Count', pad=10)\n",
    "\n",
    "# Remove x and y axis labels\n",
    "ax.set_xticks([])\n",
    "ax.set_yticks([])\n",
    "\n",
    "# Set a title\n",
    "ax.set_title('Inventors in US States')\n",
    "\n",
    "plt.show()\n"
   ]
  }
 ],
 "metadata": {
  "kernelspec": {
   "display_name": "Python 3 (ipykernel)",
   "language": "python",
   "name": "python3"
  },
  "language_info": {
   "codemirror_mode": {
    "name": "ipython",
    "version": 3
   },
   "file_extension": ".py",
   "mimetype": "text/x-python",
   "name": "python",
   "nbconvert_exporter": "python",
   "pygments_lexer": "ipython3",
   "version": "3.11.5"
  }
 },
 "nbformat": 4,
 "nbformat_minor": 5
}
