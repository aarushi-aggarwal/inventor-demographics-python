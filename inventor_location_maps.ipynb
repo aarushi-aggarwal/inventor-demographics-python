{
 "cells": [
  {
   "cell_type": "raw",
   "id": "f7e2f2da",
   "metadata": {},
   "source": [
    "import numpy as np\n",
    "import pandas as pd"
   ]
  },
  {
   "cell_type": "raw",
   "id": "18cc328f",
   "metadata": {},
   "source": [
    "inventor_df = pd.read_csv('C:/Users/aarus/Downloads/g_inventor_disambiguated.tsv/g_inventor_disambiguated.tsv',sep='\\t')\n",
    "location_df = pd.read_csv('C:/Users/aarus/Downloads/g_location_disambiguated.tsv/g_location_disambiguated.tsv',sep='\\t')"
   ]
  },
  {
   "cell_type": "raw",
   "id": "a7f799b2",
   "metadata": {},
   "source": [
    "inventor_df.info()"
   ]
  },
  {
   "cell_type": "raw",
   "id": "8d0f24aa",
   "metadata": {},
   "source": [
    "inventor_df=inventor_df.drop(['disambig_inventor_name_first', 'disambig_inventor_name_last', 'inventor_sequence'], axis=1)\n",
    "inventor_df=inventor_df.sort_values(by=['inventor_id'])"
   ]
  },
  {
   "cell_type": "raw",
   "id": "2e0bb8ce",
   "metadata": {},
   "source": [
    "patent_count= inventor_df.groupby('inventor_id')['patent_id'].count().reset_index()\n",
    "patent_count.columns = ['inventor_id', 'patent_count']\n",
    "inventor_df = pd.merge(inventor_df, patent_count, on='inventor_id', how='left')\n",
    "inventor_df = pd.merge(inventor_df, location_df, on='location_id', how='left')"
   ]
  },
  {
   "cell_type": "raw",
   "id": "5f0f672c",
   "metadata": {},
   "source": [
    "df_temp= inventor_df.drop('patent_id', axis=1)\n",
    "df_temp= df_temp.drop_duplicates()\n",
    "most_common_location = df_temp.groupby('inventor_id')['location_id'].agg(lambda x: x.mode().iloc[0] if not x.mode().empty else pd.NA).reset_index()\n",
    "most_common_location.columns = ['inventor_id', 'most_common_location_id']\n",
    "\n",
    "df_temp = pd.merge(df_temp, most_common_location, on='inventor_id', how='left')\n",
    "df_temp = df_temp.drop(['disambig_city', 'disambig_state', 'disambig_country', 'latitude', 'longitude', 'county', 'state_fips', 'county_fips'], axis=1)\n",
    "df_temp = df_temp.merge(location_df, left_on='most_common_location_id', right_on='location_id', how='left')\n",
    "df_temp= df_temp.drop_duplicates(subset=['inventor_id'])"
   ]
  },
  {
   "cell_type": "raw",
   "id": "333b7086",
   "metadata": {},
   "source": [
    "import matplotlib.pyplot as plt\n",
    "from matplotlib.colors import LogNorm\n",
    "\n",
    "gdf = gpd.GeoDataFrame(df_temp, \n",
    "                       geometry=gpd.points_from_xy(df_temp.longitude, df_temp.latitude))\n",
    "world = gpd.read_file(gpd.datasets.get_path('naturalearth_lowres'))\n",
    "fig, ax = plt.subplots(figsize=(15, 10))\n",
    "world.plot(ax=ax, color='lightgray')\n",
    "\n",
    "gdf.plot(ax=ax, marker='o', alpha=0.7, cmap='viridis', markersize=10, norm=LogNorm(), c='patent_count', legend=True)\n",
    "\n",
    "cbar = plt.colorbar(ax.collections[0], label='Patent Count', orientation='vertical')\n",
    "ax.set_title('Inventor Locations on World Map')\n",
    "ax.set_xlabel('Longitude')\n",
    "ax.set_ylabel('Latitude')\n",
    "\n",
    "plt.show()"
   ]
  },
  {
   "cell_type": "raw",
   "id": "905133f1",
   "metadata": {},
   "source": [
    "location_counts = df_temp.groupby(['latitude', 'longitude']).size().reset_index(name='inventor_count')\n",
    "\n",
    "gdf = gpd.GeoDataFrame(location_counts, \n",
    "                       geometry=gpd.points_from_xy(location_counts.longitude, location_counts.latitude))\n",
    "\n",
    "world = gpd.read_file(gpd.datasets.get_path('naturalearth_lowres'))\n",
    "\n",
    "fig, ax = plt.subplots(figsize=(15, 10))\n",
    "world.plot(ax=ax, color='lightgray')\n",
    "gdf.plot(ax=ax, marker='o', alpha=0.7, cmap='viridis', markersize=gdf['inventor_count']*2, norm=LogNorm(), legend=True)\n",
    "\n",
    "cbar = plt.colorbar(ax.collections[0], label='Inventor Count', orientation='vertical')\n",
    "ax.set_title('Inventor Locations on World Map (Dot Size based on Inventor Count)')\n",
    "ax.set_xlabel('Longitude')\n",
    "ax.set_ylabel('Latitude')\n",
    "\n",
    "plt.show()\n"
   ]
  },
  {
   "cell_type": "raw",
   "id": "354367c2",
   "metadata": {},
   "source": [
    "df_temp2 = df_temp[df_temp['disambig_country'] == 'US']\n",
    "\n",
    "from mpl_toolkits.axes_grid1 import make_axes_locatable\n",
    "\n",
    "us_states = gpd.read_file('C:/Users/aarus/Downloads/cb_2021_us_state_20m/cb_2021_us_state_20m.shp')\n",
    "\n",
    "\n",
    "gdf = gpd.GeoDataFrame(df_temp2, \n",
    "                       geometry=gpd.points_from_xy(df_temp2.longitude, df_temp2.latitude))\n",
    "gdf_us_states = gpd.sjoin(gdf, us_states, how='left', op='within')\n",
    "state_counts = gdf_us_states.groupby('STUSPS').size().reset_index(name='inventor_count')\n",
    "us_states = us_states.merge(state_counts, left_on='STUSPS', right_on='STUSPS', how='left')\n",
    "\n",
    "# Plot the choropleth map\n",
    "fig, ax = plt.subplots(figsize=(25, 20))\n",
    "divider = make_axes_locatable(ax)\n",
    "cax = divider.append_axes(\"right\", size=\"5%\", pad=0.1)\n",
    "\n",
    "us_states.plot(column='inventor_count', cmap='viridis', linewidth=0.8, ax=ax, edgecolor='0.8', legend=True, cax=cax)\n",
    "cax.set_title('Inventor Count', pad=10)\n",
    "ax.set_xticks([])\n",
    "ax.set_yticks([])\n",
    "\n",
    "ax.set_title('Inventors in US States')\n",
    "\n",
    "plt.show()\n"
   ]
  }
 ],
 "metadata": {
  "kernelspec": {
   "display_name": "Python 3 (ipykernel)",
   "language": "python",
   "name": "python3"
  },
  "language_info": {
   "codemirror_mode": {
    "name": "ipython",
    "version": 3
   },
   "file_extension": ".py",
   "mimetype": "text/x-python",
   "name": "python",
   "nbconvert_exporter": "python",
   "pygments_lexer": "ipython3",
   "version": "3.11.5"
  }
 },
 "nbformat": 4,
 "nbformat_minor": 5
}
